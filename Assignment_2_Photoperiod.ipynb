{
 "cells": [
  {
   "cell_type": "markdown",
   "metadata": {},
   "source": [
    "# Photoperiod\n",
    "## Nathaniel Parker\n",
    "## February 9, 2020"
   ]
  },
  {
   "cell_type": "code",
   "execution_count": 13,
   "metadata": {},
   "outputs": [],
   "source": [
    "import math #import math modeule\n",
    "import datetime #import datetime modeule"
   ]
  },
  {
   "cell_type": "code",
   "execution_count": 14,
   "metadata": {},
   "outputs": [
    {
     "name": "stdin",
     "output_type": "stream",
     "text": [
      "Enter your date in dd-mm-yyyy format 20-07-1981\n",
      "Enter latitude in decimal degrees (Note: Latitudes are positive northwards and negative southwards, eg. 35 degrees South is -35) 33.4\n"
     ]
    },
    {
     "name": "stdout",
     "output_type": "stream",
     "text": [
      "Your input date is 20-07-1981\n",
      "Your input latitude is 33.4 degrees\n"
     ]
    }
   ],
   "source": [
    "# User inputs for implementation of equation [1]\n",
    "\n",
    "ChosenDate = input('Enter your date in dd-mm-yyyy format') \n",
    "Latitude = input('Enter latitude in decimal degrees (Note: Latitudes are positive northwards and negative southwards, eg. 35 degrees South is -35)')\n",
    "\n",
    "print('Your input date is',ChosenDate)\n",
    "print('Your input latitude is',Latitude,'degrees')"
   ]
  },
  {
   "cell_type": "code",
   "execution_count": 15,
   "metadata": {},
   "outputs": [
    {
     "name": "stdout",
     "output_type": "stream",
     "text": [
      "The day of year is 201\n"
     ]
    }
   ],
   "source": [
    "# Computing Day of year  for the implemetation of equation [4]\n",
    "\n",
    "ChosenDate = datetime.datetime.strptime(ChosenDate,\"%d-%m-%Y\") #convert from string to date\n",
    "DayOfYear = ChosenDate.strftime('%j') #compute the day of year\n",
    "print(\"The day of year is\",DayOfYear)\n"
   ]
  },
  {
   "cell_type": "code",
   "execution_count": 16,
   "metadata": {},
   "outputs": [
    {
     "name": "stdout",
     "output_type": "stream",
     "text": [
      "The M value is 194.9 degrees\n",
      "lambda is 476.94\n",
      "solar declination is 20.8 degrees\n"
     ]
    }
   ],
   "source": [
    "# Computing Solar declination, delta in degrees for implementation of equation [1]\n",
    "\n",
    "M = 0.985600*int(DayOfYear)-3.251     # Equation [4]\n",
    "print('The M value is', round(M,1), 'degrees')\n",
    "\n",
    "lamda = M + 1.916 * math.sin(math.radians(M))+ 0.020 * math.sin(2*math.radians(M))+ 282.565    # Equation [3]\n",
    "print('lambda is', round(lamda,2))\n",
    "\n",
    "delta = math.degrees(math.asin(0.39779*math.sin(math.radians(lamda))))  # Equation [2]\n",
    "print('solar declination is', round(delta,1),'degrees')\n"
   ]
  },
  {
   "cell_type": "code",
   "execution_count": 17,
   "metadata": {},
   "outputs": [
    {
     "name": "stdout",
     "output_type": "stream",
     "text": [
      "The zenith distance is 91.5 degrees\n"
     ]
    }
   ],
   "source": [
    "#Computing the Zenith distance, alpha for implementation of equation [1]\n",
    "\n",
    "light_intensity = 2.206*10**-3  \n",
    "B = -4.76 - 1.03*math.log(light_intensity)   # Equation [5]\n",
    "\n",
    "alpha = 90+B         # Equation [6]\n",
    "print('The zenith distance is', round(alpha,1), 'degrees')\n",
    "#print(type(alpha))"
   ]
  },
  {
   "cell_type": "code",
   "execution_count": 18,
   "metadata": {},
   "outputs": [
    {
     "name": "stdout",
     "output_type": "stream",
     "text": [
      "The day length is 14.2 hours\n"
     ]
    }
   ],
   "source": [
    "# Computing the day length in hours, equation [1]\n",
    "\n",
    "Day_length = 2/15 * math.degrees(math.acos(math.cos(math.radians(alpha))*1/math.cos(math.radians(float(Latitude)))*1/math.cos(math.radians(delta))\n",
    "                                           - (math.tan(math.radians(float(Latitude)))*math.tan(math.radians(delta)))))\n",
    "print('The day length is', round(Day_length,1), 'hours')\n",
    "\n"
   ]
  }
 ],
 "metadata": {
  "kernelspec": {
   "display_name": "Python 3",
   "language": "python",
   "name": "python3"
  },
  "language_info": {
   "codemirror_mode": {
    "name": "ipython",
    "version": 3
   },
   "file_extension": ".py",
   "mimetype": "text/x-python",
   "name": "python",
   "nbconvert_exporter": "python",
   "pygments_lexer": "ipython3",
   "version": "3.7.4"
  }
 },
 "nbformat": 4,
 "nbformat_minor": 4
}
