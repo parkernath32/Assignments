{
 "cells": [
  {
   "cell_type": "markdown",
   "metadata": {},
   "source": [
    "# Photoperiod\n",
    "## Nathaniel Parker\n",
    "## February 9, 2020"
   ]
  },
  {
   "cell_type": "code",
   "execution_count": 11,
   "metadata": {},
   "outputs": [],
   "source": [
    "# Insert date)\"dd-mmm\": mydate.timetuple().tm_year\n",
    "\n",
    "# You can choose a date: \"dd-mm-yyyy\" and use strptime() and timetuple()\n",
    "\n",
    "# convert to degrees using: math.deg(math.sin(radians()))"
   ]
  },
  {
   "cell_type": "code",
   "execution_count": 37,
   "metadata": {},
   "outputs": [],
   "source": [
    "import math #import math modeule\n",
    "import datetime #import datetime modeule"
   ]
  },
  {
   "cell_type": "code",
   "execution_count": 92,
   "metadata": {},
   "outputs": [
    {
     "name": "stdin",
     "output_type": "stream",
     "text": [
      "Enter your date in dd-mm-yyyy format 19-07-2020\n"
     ]
    },
    {
     "name": "stdout",
     "output_type": "stream",
     "text": [
      "The day of year is 201\n"
     ]
    }
   ],
   "source": [
    "ChosenDate = input('Enter your date in dd-mm-yyyy format') \n",
    "ChosenDate = datetime.datetime.strptime(ChosenDate,\"%d-%m-%Y\") #convert from string to date\n",
    "DayOfYear = ChosenDate.strftime('%j') #compute the day of year\n",
    "print(\"The day of year is\",DayOfYear)\n"
   ]
  },
  {
   "cell_type": "code",
   "execution_count": 93,
   "metadata": {},
   "outputs": [
    {
     "name": "stdin",
     "output_type": "stream",
     "text": [
      "Enter latitude in decimal degrees. North is positive, South is Negative eg. 35 degrees North is 35 33.4\n"
     ]
    },
    {
     "name": "stdout",
     "output_type": "stream",
     "text": [
      "33.4\n",
      "<class 'str'>\n"
     ]
    }
   ],
   "source": [
    "Latitude = input('Enter latitude in decimal degrees. North is positive, South is Negative eg. 35 degrees North is 35')\n",
    "#print('The latitude is',Latitude,'degrees')\n",
    "print(Latitude)\n",
    "print(type(Latitude))"
   ]
  },
  {
   "cell_type": "code",
   "execution_count": 94,
   "metadata": {},
   "outputs": [
    {
     "name": "stdout",
     "output_type": "stream",
     "text": [
      "The M value is 194.8546 degrees\n",
      "lambda is 476.93831283687416\n",
      "solar declination is 20.77062956591185 degrees\n",
      "<class 'float'>\n"
     ]
    }
   ],
   "source": [
    "# Computing Solar declination, delta in degrees\n",
    "\n",
    "M = 0.985600*int(DayOfYear)-3.251\n",
    "print('The M value is', M, 'degrees')\n",
    "\n",
    "lamda = M + 1.916 * math.sin(math.radians(M))+ 0.020 * math.sin(2*math.radians(M))+ 282.565\n",
    "print('lambda is', lamda)\n",
    "\n",
    "delta = math.degrees(math.asin(0.39779*math.sin(math.radians(lamda))))\n",
    "print('solar declination is',delta, 'degrees')\n",
    "#print(type(delta))"
   ]
  },
  {
   "cell_type": "code",
   "execution_count": 95,
   "metadata": {},
   "outputs": [
    {
     "name": "stdout",
     "output_type": "stream",
     "text": [
      "The zenith distance is 91.54007158889536 degrees\n",
      "<class 'float'>\n"
     ]
    }
   ],
   "source": [
    "#Computing the Zenith distance, alpha\n",
    "\n",
    "light_intensity = 2.206*10**-3\n",
    "B = -4.76 - 1.03*math.log(light_intensity)   # B value\n",
    "\n",
    "alpha = 90+B\n",
    "print('The zenith distance is', alpha, 'degrees')\n",
    "#print(type(alpha))"
   ]
  },
  {
   "cell_type": "code",
   "execution_count": 102,
   "metadata": {},
   "outputs": [
    {
     "name": "stdout",
     "output_type": "stream",
     "text": [
      "The day length is 14.2 hours\n"
     ]
    }
   ],
   "source": [
    "# Computing the day length in hours\n",
    "\n",
    "Day_length = 2/15 * math.degrees(math.acos(math.cos(math.radians(alpha))*1/math.cos(math.radians(float(Latitude)))*1/math.cos(math.radians(delta))- (math.tan(math.radians(float(Latitude)))*math.tan(math.radians(delta)))))\n",
    "print('The day length is', round(Day_length,1), 'hours')\n"
   ]
  },
  {
   "cell_type": "code",
   "execution_count": null,
   "metadata": {},
   "outputs": [],
   "source": []
  }
 ],
 "metadata": {
  "kernelspec": {
   "display_name": "Python 3",
   "language": "python",
   "name": "python3"
  },
  "language_info": {
   "codemirror_mode": {
    "name": "ipython",
    "version": 3
   },
   "file_extension": ".py",
   "mimetype": "text/x-python",
   "name": "python",
   "nbconvert_exporter": "python",
   "pygments_lexer": "ipython3",
   "version": "3.7.4"
  }
 },
 "nbformat": 4,
 "nbformat_minor": 4
}
