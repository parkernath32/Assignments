{
 "cells": [
  {
   "cell_type": "markdown",
   "metadata": {},
   "source": [
    "# Random Plot Generator\n",
    "## Nathaniel Parker\n",
    "# February 17, 2020"
   ]
  },
  {
   "cell_type": "code",
   "execution_count": 1,
   "metadata": {},
   "outputs": [],
   "source": [
    "# Import modeule\n",
    "\n",
    "import random"
   ]
  },
  {
   "cell_type": "code",
   "execution_count": 2,
   "metadata": {},
   "outputs": [],
   "source": [
    "# Defining the treatments (tmt) \n",
    "\n",
    "tmt = [\"N0\", \"N25\", \"N50\", \"N100\", \"N200\"] # N in kg/ha \n",
    "\n"
   ]
  },
  {
   "cell_type": "code",
   "execution_count": 3,
   "metadata": {},
   "outputs": [
    {
     "name": "stdout",
     "output_type": "stream",
     "text": [
      "4\n"
     ]
    }
   ],
   "source": [
    "# Defining the number of replications (reps)\n",
    "\n",
    "# replicate = (random.sample(tmt,k = len(tmt)))\n",
    "\n",
    "reps = 4 \n",
    "\n",
    "print(reps)\n",
    "\n",
    "#print(replicate)\n",
    "\n",
    "#random.seed(replicates)"
   ]
  },
  {
   "cell_type": "code",
   "execution_count": 6,
   "metadata": {},
   "outputs": [
    {
     "name": "stdout",
     "output_type": "stream",
     "text": [
      "replicate 1 : ['N50', 'N200', 'N100', 'N25', 'N0']\n",
      "replicate 2 : ['N25', 'N200', 'N100', 'N0', 'N50']\n",
      "replicate 4 : ['N0', 'N25', 'N100', 'N200', 'N50']\n",
      "replicate 7 : ['N100', 'N200', 'N50', 'N0', 'N25']\n"
     ]
    }
   ],
   "source": [
    "# Performing a randomized complete block design (RCBD)\n",
    "\n",
    "# for loop for the RCBD \n",
    "\n",
    "random.seed('default')\n",
    "counter = 1 # for counting the number of replication\n",
    "\n",
    "for replicate in range(0,reps):\n",
    "    \n",
    "    counter = counter + replicate \n",
    "    \n",
    "    RCBD = random.sample(tmt, k=len(tmt))\n",
    "    \n",
    "    print('replicate', counter,':', RCBD)\n",
    "    "
   ]
  },
  {
   "cell_type": "code",
   "execution_count": 7,
   "metadata": {},
   "outputs": [
    {
     "name": "stdout",
     "output_type": "stream",
     "text": [
      "replicate 1 : ['N25', 'N100', 'N100', 'N25', 'N100']\n",
      "replicate 2 : ['N50', 'N25', 'N200', 'N100', 'N200']\n",
      "replicate 4 : ['N200', 'N25', 'N200', 'N50', 'N50']\n",
      "replicate 7 : ['N50', 'N25', 'N0', 'N200', 'N50']\n"
     ]
    }
   ],
   "source": [
    "# Performing the complete randomized design (CRD)\n",
    "\n",
    "# for loop for the CRD  \n",
    "\n",
    "random.seed('default')\n",
    "counter = 1 # for counting the number of replication\n",
    "\n",
    "for replicate in range(0,reps):\n",
    "    \n",
    "    counter = counter + replicate\n",
    "    \n",
    "    CRD = random.choices(tmt,k=len(tmt))\n",
    "    \n",
    "    print('replicate', counter,':', CRD)\n",
    "  "
   ]
  },
  {
   "cell_type": "markdown",
   "metadata": {},
   "source": [
    "random.seed(10)\n",
    "\n",
    "random.randint(a=0, b=10)"
   ]
  },
  {
   "cell_type": "raw",
   "metadata": {},
   "source": []
  },
  {
   "cell_type": "code",
   "execution_count": null,
   "metadata": {},
   "outputs": [],
   "source": []
  }
 ],
 "metadata": {
  "kernelspec": {
   "display_name": "Python 3",
   "language": "python",
   "name": "python3"
  },
  "language_info": {
   "codemirror_mode": {
    "name": "ipython",
    "version": 3
   },
   "file_extension": ".py",
   "mimetype": "text/x-python",
   "name": "python",
   "nbconvert_exporter": "python",
   "pygments_lexer": "ipython3",
   "version": "3.7.4"
  }
 },
 "nbformat": 4,
 "nbformat_minor": 4
}
