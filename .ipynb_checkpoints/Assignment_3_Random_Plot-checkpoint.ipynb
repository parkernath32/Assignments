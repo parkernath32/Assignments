{
 "cells": [
  {
   "cell_type": "markdown",
   "metadata": {},
   "source": [
    "# Random Plot Generator\n",
    "## Nathaniel Parker\n",
    "# February 17, 2020"
   ]
  },
  {
   "cell_type": "code",
   "execution_count": 109,
   "metadata": {},
   "outputs": [],
   "source": [
    "# Importing the random modeule\n",
    "\n",
    "import random\n"
   ]
  },
  {
   "cell_type": "code",
   "execution_count": 110,
   "metadata": {},
   "outputs": [],
   "source": [
    "# Defining the treatments (tmt) \n",
    "\n",
    "tmt = [\"N0\", \"N25\", \"N50\", \"N100\", \"N200\"] # N in kg/ha \n",
    "\n"
   ]
  },
  {
   "cell_type": "code",
   "execution_count": 111,
   "metadata": {},
   "outputs": [
    {
     "name": "stdout",
     "output_type": "stream",
     "text": [
      "4\n"
     ]
    }
   ],
   "source": [
    "# Defining the number of replications (reps)\n",
    "\n",
    "reps = 4 \n",
    "\n",
    "print(reps)\n",
    "\n"
   ]
  },
  {
   "cell_type": "code",
   "execution_count": 112,
   "metadata": {},
   "outputs": [
    {
     "name": "stdout",
     "output_type": "stream",
     "text": [
      "Replication 1 : ['N50', 'N200', 'N100', 'N25', 'N0']\n",
      "Replication 2 : ['N25', 'N200', 'N100', 'N0', 'N50']\n",
      "Replication 3 : ['N0', 'N25', 'N100', 'N200', 'N50']\n",
      "Replication 4 : ['N100', 'N200', 'N50', 'N0', 'N25']\n"
     ]
    }
   ],
   "source": [
    "# Performing a randomized complete block design (RCBD)\n",
    "\n",
    "\n",
    "## Seeding the randomized treatments for the purpose of reproducible research\n",
    "\n",
    "random.seed('default')   \n",
    "\n",
    "\n",
    "## Creating a for-loop for putting the treatments into blocks based on the number of replicates\n",
    "\n",
    "for rep in range(reps):\n",
    "    \n",
    "    ## Counter for counting the number of replicates\n",
    "    counter = rep + 1 \n",
    "    \n",
    "    RCBD = random.sample(tmt, k=len(tmt))  \n",
    "    \n",
    "    print('Replication', counter,':', RCBD)\n",
    "    "
   ]
  },
  {
   "cell_type": "code",
   "execution_count": 113,
   "metadata": {},
   "outputs": [
    {
     "name": "stdout",
     "output_type": "stream",
     "text": [
      "Replication 1 : ['N0', 'N50', 'N100', 'N200', 'N25']\n",
      "Replication 2 : ['N200', 'N25', 'N100', 'N0', 'N0']\n",
      "Replication 3 : ['N200', 'N25', 'N0', 'N25', 'N200']\n",
      "Replication 4 : ['N100', 'N100', 'N50', 'N50', 'N50']\n"
     ]
    }
   ],
   "source": [
    "# Performing the complete randomized design (CRD)\n",
    "\n",
    "## Creating a list of all the samples\n",
    "\n",
    "list = tmt*reps \n",
    "\n",
    "\n",
    "# Placing the list of samples in random\n",
    "\n",
    "list_all = random.sample(list,len(tmt)*reps)\n",
    "\n",
    "\n",
    "count = 1  ## a counter for counting the replicates\n",
    "\n",
    "CRD = [] ## an empty container to hold the completely randomized samples\n",
    "\n",
    "rep_label = 0\n",
    "\n",
    "\n",
    "## for loop for randomly laying out samples\n",
    "\n",
    "for i in list_all:  \n",
    "    \n",
    "    CRD.append(i)\n",
    "    \n",
    "    if count %len(tmt) == 0:\n",
    "        \n",
    "        rep_label =  rep_label + 1\n",
    "        \n",
    "        print('Replication',rep_label,':',CRD)\n",
    "        \n",
    "        CRD.clear()\n",
    "        \n",
    "    count = count + 1\n",
    "    \n",
    "    "
   ]
  }
 ],
 "metadata": {
  "kernelspec": {
   "display_name": "Python 3",
   "language": "python",
   "name": "python3"
  },
  "language_info": {
   "codemirror_mode": {
    "name": "ipython",
    "version": 3
   },
   "file_extension": ".py",
   "mimetype": "text/x-python",
   "name": "python",
   "nbconvert_exporter": "python",
   "pygments_lexer": "ipython3",
   "version": "3.7.4"
  }
 },
 "nbformat": 4,
 "nbformat_minor": 4
}
