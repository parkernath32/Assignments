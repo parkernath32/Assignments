{
 "cells": [
  {
   "cell_type": "code",
   "execution_count": 18,
   "metadata": {},
   "outputs": [],
   "source": [
    "# Import modeule\n",
    "\n",
    "import random\n"
   ]
  },
  {
   "cell_type": "code",
   "execution_count": 19,
   "metadata": {},
   "outputs": [
    {
     "name": "stdout",
     "output_type": "stream",
     "text": [
      "['N0', 'N25', 'N50', 'N100', 'N200']\n"
     ]
    }
   ],
   "source": [
    "# Defining the treatments (tmt) \n",
    "\n",
    "tmt = [\"N0\", \"N25\", \"N50\", \"N100\", \"N200\"] # N in kg/ha \n",
    "print(tmt)"
   ]
  },
  {
   "cell_type": "code",
   "execution_count": 20,
   "metadata": {},
   "outputs": [
    {
     "name": "stdout",
     "output_type": "stream",
     "text": [
      "4\n"
     ]
    }
   ],
   "source": [
    "# Defining the number of replications (reps)\n",
    "\n",
    "# replicate = (random.sample(tmt,k = len(tmt)))\n",
    "\n",
    "reps = 4 \n",
    "\n",
    "print(reps)\n"
   ]
  },
  {
   "cell_type": "code",
   "execution_count": 28,
   "metadata": {},
   "outputs": [
    {
     "name": "stdout",
     "output_type": "stream",
     "text": [
      "1\n",
      "2\n",
      "4\n",
      "7\n"
     ]
    }
   ],
   "source": [
    "# Performing a randomized complete block design (RCBD)\n",
    "\n",
    "# for loop for the RCBD \n",
    "\n",
    "random.seed('default')\n",
    "counter = 1 # for counting the number of replication\n",
    "\n",
    "for rep in range(reps):\n",
    "    #print(rep)\n",
    "    counter = rep + counter\n",
    "    print(counter)\n",
    "    #RCBD = random.sample(tmt, k=len(tmt))\n",
    "    \n",
    "    #print('Replication', counter,':', RCBD)"
   ]
  },
  {
   "cell_type": "code",
   "execution_count": null,
   "metadata": {},
   "outputs": [],
   "source": []
  },
  {
   "cell_type": "code",
   "execution_count": null,
   "metadata": {},
   "outputs": [],
   "source": []
  }
 ],
 "metadata": {
  "kernelspec": {
   "display_name": "Python 3",
   "language": "python",
   "name": "python3"
  },
  "language_info": {
   "codemirror_mode": {
    "name": "ipython",
    "version": 3
   },
   "file_extension": ".py",
   "mimetype": "text/x-python",
   "name": "python",
   "nbconvert_exporter": "python",
   "pygments_lexer": "ipython3",
   "version": "3.7.4"
  }
 },
 "nbformat": 4,
 "nbformat_minor": 4
}
