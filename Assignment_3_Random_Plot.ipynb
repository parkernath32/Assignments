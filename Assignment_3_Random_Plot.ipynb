{
 "cells": [
  {
   "cell_type": "markdown",
   "metadata": {},
   "source": [
    "# Random Plot Generator\n",
    "## Nathaniel Parker\n",
    "# February 17, 2020"
   ]
  },
  {
   "cell_type": "code",
   "execution_count": 33,
   "metadata": {},
   "outputs": [],
   "source": [
    "# Import modeule\n",
    "\n",
    "import random"
   ]
  },
  {
   "cell_type": "code",
   "execution_count": 34,
   "metadata": {},
   "outputs": [],
   "source": [
    "# Defining the treatments (tmt) \n",
    "\n",
    "tmt = [\"N0\", \"N25\", \"N50\", \"N100\", \"N200\"] # N in kg/ha \n",
    "\n"
   ]
  },
  {
   "cell_type": "code",
   "execution_count": 35,
   "metadata": {},
   "outputs": [
    {
     "name": "stdout",
     "output_type": "stream",
     "text": [
      "4\n"
     ]
    }
   ],
   "source": [
    "# Defining the number of replications (reps)\n",
    "\n",
    "# replicate = (random.sample(tmt,k = len(tmt)))\n",
    "\n",
    "reps = 4 \n",
    "\n",
    "print(reps)\n",
    "\n",
    "#print(replicate)\n",
    "\n",
    "#random.seed(replicates)"
   ]
  },
  {
   "cell_type": "code",
   "execution_count": 36,
   "metadata": {},
   "outputs": [
    {
     "name": "stdout",
     "output_type": "stream",
     "text": [
      "replicate 0 : ['N50', 'N200', 'N100', 'N25', 'N0']\n",
      "replicate 1 : ['N25', 'N200', 'N100', 'N0', 'N50']\n",
      "replicate 3 : ['N0', 'N25', 'N100', 'N200', 'N50']\n",
      "replicate 6 : ['N100', 'N200', 'N50', 'N0', 'N25']\n"
     ]
    }
   ],
   "source": [
    "# Performing a randomized complete block design (RCBD)\n",
    "\n",
    "# for loop for the RCBD \n",
    "\n",
    "random.seed('default')\n",
    "counter = 0 # for counting the number of replication\n",
    "\n",
    "for rep in range(reps):\n",
    "    \n",
    "    counter = counter + rep \n",
    "    \n",
    "    RCBD = random.sample(tmt, k=len(tmt))\n",
    "    \n",
    "    print('Replication', counter,':', RCBD)\n",
    "    "
   ]
  },
  {
   "cell_type": "code",
   "execution_count": 44,
   "metadata": {},
   "outputs": [
    {
     "name": "stdout",
     "output_type": "stream",
     "text": [
      "0\n",
      "['N25', 'N100', 'N100', 'N25', 'N100']\n",
      "Replication 5 : ['N25', 'N100', 'N100', 'N25', 'N100']\n",
      "1\n",
      "['N50', 'N25', 'N200', 'N100', 'N200']\n",
      "Replication 9 : ['N50', 'N25', 'N200', 'N100', 'N200']\n",
      "2\n",
      "['N200', 'N25', 'N200', 'N50', 'N50']\n",
      "Replication 13 : ['N200', 'N25', 'N200', 'N50', 'N50']\n",
      "3\n",
      "['N50', 'N25', 'N0', 'N200', 'N50']\n",
      "Replication 17 : ['N50', 'N25', 'N0', 'N200', 'N50']\n"
     ]
    }
   ],
   "source": [
    "# Performing the complete randomized design (CRD)\n",
    "\n",
    "# for loop for the CRD  \n",
    "\n",
    "\n",
    "counter = 1 # for counting the number of replication\n",
    "random.seed('default')\n",
    "\n",
    "for rep in range(reps):\n",
    "    print(rep)\n",
    "    counter = counter + reps\n",
    "    \n",
    "    CRD = random.choices(tmt,k=len(tmt))\n",
    "    print(CRD)\n",
    "    print('Replication', counter,':', CRD)\n",
    " "
   ]
  },
  {
   "cell_type": "markdown",
   "metadata": {},
   "source": [
    "random.seed(10)\n",
    "\n",
    "random.randint(a=0, b=10)"
   ]
  },
  {
   "cell_type": "code",
   "execution_count": 23,
   "metadata": {},
   "outputs": [
    {
     "name": "stdout",
     "output_type": "stream",
     "text": [
      "0\n",
      "1\n",
      "2\n",
      "3\n"
     ]
    }
   ],
   "source": [
    "for i in range(4):\n",
    "    print(i)"
   ]
  },
  {
   "cell_type": "code",
   "execution_count": 30,
   "metadata": {},
   "outputs": [
    {
     "data": {
      "text/plain": [
       "\u001b[1;31mSignature:\u001b[0m \u001b[0mrandom\u001b[0m\u001b[1;33m.\u001b[0m\u001b[0mseed\u001b[0m\u001b[1;33m(\u001b[0m\u001b[0ma\u001b[0m\u001b[1;33m=\u001b[0m\u001b[1;32mNone\u001b[0m\u001b[1;33m,\u001b[0m \u001b[0mversion\u001b[0m\u001b[1;33m=\u001b[0m\u001b[1;36m2\u001b[0m\u001b[1;33m)\u001b[0m\u001b[1;33m\u001b[0m\u001b[1;33m\u001b[0m\u001b[0m\n",
       "\u001b[1;31mDocstring:\u001b[0m\n",
       "Initialize internal state from hashable object.\n",
       "\n",
       "None or no argument seeds from current time or from an operating\n",
       "system specific randomness source if available.\n",
       "\n",
       "If *a* is an int, all bits are used.\n",
       "\n",
       "For version 2 (the default), all of the bits are used if *a* is a str,\n",
       "bytes, or bytearray.  For version 1 (provided for reproducing random\n",
       "sequences from older versions of Python), the algorithm for str and\n",
       "bytes generates a narrower range of seeds.\n",
       "\u001b[1;31mFile:\u001b[0m      c:\\users\\parkernath32\\appdata\\local\\continuum\\anaconda3\\lib\\random.py\n",
       "\u001b[1;31mType:\u001b[0m      method\n"
      ]
     },
     "metadata": {},
     "output_type": "display_data"
    }
   ],
   "source": [
    "random.seed?"
   ]
  },
  {
   "cell_type": "code",
   "execution_count": 37,
   "metadata": {},
   "outputs": [
    {
     "name": "stdout",
     "output_type": "stream",
     "text": [
      "4\n"
     ]
    }
   ],
   "source": [
    "print(reps)"
   ]
  },
  {
   "cell_type": "code",
   "execution_count": null,
   "metadata": {},
   "outputs": [],
   "source": []
  }
 ],
 "metadata": {
  "kernelspec": {
   "display_name": "Python 3",
   "language": "python",
   "name": "python3"
  },
  "language_info": {
   "codemirror_mode": {
    "name": "ipython",
    "version": 3
   },
   "file_extension": ".py",
   "mimetype": "text/x-python",
   "name": "python",
   "nbconvert_exporter": "python",
   "pygments_lexer": "ipython3",
   "version": "3.7.4"
  }
 },
 "nbformat": 4,
 "nbformat_minor": 4
}
