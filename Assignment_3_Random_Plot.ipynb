{
 "cells": [
  {
   "cell_type": "markdown",
   "metadata": {},
   "source": [
    "# Random Plot Generator\n",
    "## Nathaniel Parker\n",
    "# February 17, 2020"
   ]
  },
  {
   "cell_type": "code",
   "execution_count": 93,
   "metadata": {},
   "outputs": [],
   "source": [
    "# Importing the random modeule\n",
    "\n",
    "import random\n"
   ]
  },
  {
   "cell_type": "code",
   "execution_count": 3,
   "metadata": {},
   "outputs": [],
   "source": [
    "# Defining the treatments (tmt) \n",
    "\n",
    "tmt = [\"N0\", \"N25\", \"N50\", \"N100\", \"N200\"] # N in kg/ha \n",
    "\n"
   ]
  },
  {
   "cell_type": "code",
   "execution_count": 98,
   "metadata": {},
   "outputs": [
    {
     "name": "stdout",
     "output_type": "stream",
     "text": [
      "4\n"
     ]
    }
   ],
   "source": [
    "# Defining the number of replications (reps)\n",
    "\n",
    "reps = 4 \n",
    "\n",
    "print(reps)\n",
    "\n"
   ]
  },
  {
   "cell_type": "code",
   "execution_count": 97,
   "metadata": {},
   "outputs": [
    {
     "name": "stdout",
     "output_type": "stream",
     "text": [
      "Replication 1 : ['N50', 'N200', 'N100', 'N25', 'N0']\n",
      "Replication 2 : ['N25', 'N200', 'N100', 'N0', 'N50']\n",
      "Replication 3 : ['N0', 'N25', 'N100', 'N200', 'N50']\n",
      "Replication 4 : ['N100', 'N200', 'N50', 'N0', 'N25']\n"
     ]
    }
   ],
   "source": [
    "# Performing a randomized complete block design (RCBD)\n",
    "\n",
    "##seeding the randomized treatments for the purpose of reproducible research\n",
    "\n",
    "random.seed('default')   \n",
    "\n",
    "\n",
    "## for loop for putting the treatments into blocks based on the number of replicates\n",
    "\n",
    "for rep in range(reps):\n",
    "    \n",
    "    counter = rep + 1 # counter for counting the number of replications\n",
    "    \n",
    "    RCBD = random.sample(tmt, k=len(tmt))  \n",
    "    \n",
    "    print('Replication', counter,':', RCBD)\n",
    "    "
   ]
  },
  {
   "cell_type": "code",
   "execution_count": 96,
   "metadata": {},
   "outputs": [
    {
     "name": "stdout",
     "output_type": "stream",
     "text": [
      "Replication 1 : ['N25', 'N100', 'N100', 'N25', 'N100']\n",
      "Replication 2 : ['N50', 'N25', 'N200', 'N100', 'N200']\n",
      "Replication 3 : ['N200', 'N25', 'N200', 'N50', 'N50']\n",
      "Replication 4 : ['N50', 'N25', 'N0', 'N200', 'N50']\n"
     ]
    }
   ],
   "source": [
    "# Performing the complete randomized design (CRD)\n",
    " \n",
    "random.seed('default') # seeding the treatment\n",
    "\n",
    "## for loop for randomizing the treatments based on the number of replicates\n",
    "\n",
    "for rep in range(reps):\n",
    "    \n",
    "    counter = rep + 1  # for counting the number of replication\n",
    "    \n",
    "    CRD = random.choices(tmt, k=len(tmt)) \n",
    "\n",
    "    print('Replication', counter,':', CRD)\n"
   ]
  },
  {
   "cell_type": "code",
   "execution_count": null,
   "metadata": {},
   "outputs": [],
   "source": []
  }
 ],
 "metadata": {
  "kernelspec": {
   "display_name": "Python 3",
   "language": "python",
   "name": "python3"
  },
  "language_info": {
   "codemirror_mode": {
    "name": "ipython",
    "version": 3
   },
   "file_extension": ".py",
   "mimetype": "text/x-python",
   "name": "python",
   "nbconvert_exporter": "python",
   "pygments_lexer": "ipython3",
   "version": "3.7.4"
  }
 },
 "nbformat": 4,
 "nbformat_minor": 4
}
