{
 "cells": [
  {
   "cell_type": "markdown",
   "metadata": {},
   "source": [
    "# Random Plot Generator\n",
    "## Nathaniel Parker\n",
    "# February 17, 2020"
   ]
  },
  {
   "cell_type": "code",
   "execution_count": 131,
   "metadata": {},
   "outputs": [],
   "source": [
    "# Importing the random modeule\n",
    "\n",
    "import random\n"
   ]
  },
  {
   "cell_type": "code",
   "execution_count": 1,
   "metadata": {},
   "outputs": [
    {
     "name": "stdout",
     "output_type": "stream",
     "text": [
      "<class 'list'>\n"
     ]
    }
   ],
   "source": [
    "# Defining the treatments (tmt) and number of replicates (reps)\n",
    "\n",
    "tmt = [\"N0\", \"N25\", \"N50\", \"N100\", \"N200\"] # N in kg/ha \n",
    "\n",
    "reps = 4 \n",
    "print(type(tmt))"
   ]
  },
  {
   "cell_type": "code",
   "execution_count": 133,
   "metadata": {},
   "outputs": [
    {
     "name": "stdout",
     "output_type": "stream",
     "text": [
      "Replication 1 : ['N50', 'N200', 'N100', 'N25', 'N0']\n",
      "Replication 2 : ['N25', 'N200', 'N100', 'N0', 'N50']\n",
      "Replication 3 : ['N0', 'N25', 'N100', 'N200', 'N50']\n",
      "Replication 4 : ['N100', 'N200', 'N50', 'N0', 'N25']\n"
     ]
    }
   ],
   "source": [
    "# Randomized Complete Block Design (RCBD)\n",
    "\n",
    "\n",
    "## Seeding the randomized treatments for the purpose of reproducible research\n",
    "\n",
    "random.seed('default')   \n",
    "\n",
    "\n",
    "## Creating a for-loop for putting the treatments into blocks based on the number of replicates\n",
    "\n",
    "for rep in range(reps):\n",
    "    \n",
    "    ## Counter for counting the number of replicates\n",
    "    counter = rep + 1 \n",
    "    \n",
    "    RCBD = random.sample(tmt, k=len(tmt))  \n",
    "    \n",
    "    print('Replication', counter,':', RCBD)\n",
    "    "
   ]
  },
  {
   "cell_type": "code",
   "execution_count": 141,
   "metadata": {},
   "outputs": [
    {
     "name": "stdout",
     "output_type": "stream",
     "text": [
      "Replication 1 : ['N100', 'N0', 'N50', 'N200', 'N50']\n",
      "Replication 2 : ['N100', 'N25', 'N0', 'N0', 'N0']\n",
      "Replication 3 : ['N25', 'N100', 'N100', 'N50', 'N25']\n",
      "Replication 4 : ['N200', 'N200', 'N25', 'N50', 'N200']\n"
     ]
    }
   ],
   "source": [
    "# Complete Randomized Design (CRD)\n",
    "\n",
    "## Creating a list of all the samples\n",
    "\n",
    "list = tmt*reps \n",
    "\n",
    "## Seeding the randomized treatments for the purpose of reproducible research\n",
    "random.seed('default')  \n",
    "\n",
    "# Placing the list of samples in random\n",
    "\n",
    "list_all = random.sample(list,len(tmt)*reps)\n",
    "\n",
    "\n",
    "count = 1  ## a counter for counting the replicates\n",
    "\n",
    "CRD = [] ## an empty container to hold the completely randomized samples\n",
    "\n",
    "rep_label = 0 # assign replicate labels\n",
    "\n",
    "## Creating a for-loop to perform the CRD\n",
    "\n",
    "for i in list_all:  \n",
    "    \n",
    "    CRD.append(i)\n",
    "    \n",
    "    if count %len(tmt) == 0:\n",
    "        \n",
    "        rep_label =  rep_label + 1\n",
    "        \n",
    "        print('Replication',rep_label,':',CRD)\n",
    "        \n",
    "        CRD.clear()\n",
    "        \n",
    "    count = count + 1\n",
    "    \n",
    "   "
   ]
  },
  {
   "cell_type": "code",
   "execution_count": null,
   "metadata": {},
   "outputs": [],
   "source": []
  }
 ],
 "metadata": {
  "kernelspec": {
   "display_name": "Python 3",
   "language": "python",
   "name": "python3"
  },
  "language_info": {
   "codemirror_mode": {
    "name": "ipython",
    "version": 3
   },
   "file_extension": ".py",
   "mimetype": "text/x-python",
   "name": "python",
   "nbconvert_exporter": "python",
   "pygments_lexer": "ipython3",
   "version": "3.7.4"
  }
 },
 "nbformat": 4,
 "nbformat_minor": 4
}
