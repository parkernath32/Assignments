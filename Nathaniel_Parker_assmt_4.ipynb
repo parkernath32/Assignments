{
 "cells": [
  {
   "cell_type": "markdown",
   "metadata": {},
   "source": [
    "# DNA Sequence\n",
    "## Nathaniel Parker\n",
    "## February 24, 2020"
   ]
  },
  {
   "cell_type": "code",
   "execution_count": 430,
   "metadata": {},
   "outputs": [],
   "source": [
    "# Import glob module\n",
    "\n",
    "import glob\n"
   ]
  },
  {
   "cell_type": "code",
   "execution_count": 436,
   "metadata": {},
   "outputs": [
    {
     "name": "stdout",
     "output_type": "stream",
     "text": [
      "C:\\Users\\parkernath32\\Dropbox\\Nathaniel Parker\\KSU_Coursework\\Spring 2020\\Introduction to Scientific Programming\\Assignments\n"
     ]
    }
   ],
   "source": [
    "# Navigate to the 'Datasets' folder, open the DNA dataset and trim off extra headers in file\n",
    "\n",
    "\n",
    "## Find the current directory\n",
    "print(glob.os.getcwd())  \n",
    "\n",
    "\n",
    "## Change directory to the 'Dataset' folder\n",
    "## Note that this path may change depending on your current working directory and the datasets folder\n",
    "data_directory = glob.os.chdir('Datasets')\n",
    "\n",
    "\n",
    "## Import the text file containing the DNA dataset to python\n",
    "dna = open('dna_sequence.txt').read().split('\\n')\n",
    "\n",
    "\n",
    "## Trimming the headers\n",
    "dna = dna[8:len(dna)]  \n",
    "\n",
    "\n",
    "## Go back to the Assignments folder\n",
    "assignment_folder = glob.os.chdir('..')\n",
    "\n",
    "\n",
    "# Joining the DNA sequences in the list into a single long string \n",
    "dna_single = ''.join(dna)\n"
   ]
  },
  {
   "cell_type": "code",
   "execution_count": 437,
   "metadata": {},
   "outputs": [],
   "source": [
    "# Declaring the function for generating the complementary DNA sequence\n",
    "\n",
    "\n",
    "def dnamatching(a):\n",
    "    \n",
    "    ''' A Function for generating a complementary DNA sequence. Input must be a string.\n",
    "    Author: Nathaniel Parker. created on February 24, 2020'''\n",
    "    \n",
    "    complementary_nucleotide = []\n",
    "        \n",
    "    for i in range(len(a)): # 'i' is a place holder and 'a' is the input string\n",
    "        \n",
    "        if a[i] == 'A':\n",
    "            complementary_nucleotide.append('T') \n",
    "            complementary_dna = ''.join(complementary_nucleotide)\n",
    "            \n",
    "        elif a[i] == 'T':\n",
    "            complementary_nucleotide.append('A')\n",
    "            complementary_dna = ''.join(complementary_nucleotide)\n",
    "            \n",
    "        elif a[i] == 'C':\n",
    "            complementary_nucleotide.append('G')\n",
    "            complementary_dna  = ''.join(complementary_nucleotide)\n",
    "        \n",
    "        elif a[i] == 'G':\n",
    "            complementary_nucleotide.append('C')\n",
    "            complementary_dna  = ''.join(complementary_nucleotide)\n",
    "        \n",
    "        else:\n",
    "            complementary_dna  = print ('Error:', 'unknown base,', a[i], ' found in line', i+1)\n",
    "            break\n",
    "     \n",
    "    ## clears the complementary_nucleotide folder to prior to the next round of iterrations\n",
    "    complementary_nucleotide.clear()   \n",
    "    \n",
    "    return complementary_dna  # output\n",
    "\n",
    "\n"
   ]
  },
  {
   "cell_type": "code",
   "execution_count": 439,
   "metadata": {},
   "outputs": [
    {
     "name": "stdout",
     "output_type": "stream",
     "text": [
      "5028\n"
     ]
    }
   ],
   "source": [
    "# calling the dnamatching function to generate the complimentary DNA sequence\n",
    "\n",
    "## call the function and assign the output to complementary_dna_sequence\n",
    "\n",
    "complementary_dna_sequence = dnamatching(dna_single)\n"
   ]
  },
  {
   "cell_type": "code",
   "execution_count": null,
   "metadata": {},
   "outputs": [],
   "source": []
  }
 ],
 "metadata": {
  "kernelspec": {
   "display_name": "Python 3",
   "language": "python",
   "name": "python3"
  },
  "language_info": {
   "codemirror_mode": {
    "name": "ipython",
    "version": 3
   },
   "file_extension": ".py",
   "mimetype": "text/x-python",
   "name": "python",
   "nbconvert_exporter": "python",
   "pygments_lexer": "ipython3",
   "version": "3.7.4"
  }
 },
 "nbformat": 4,
 "nbformat_minor": 4
}
